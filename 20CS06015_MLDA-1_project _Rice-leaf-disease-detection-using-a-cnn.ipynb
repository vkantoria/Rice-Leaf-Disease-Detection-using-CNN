{
 "cells": [
  {
   "cell_type": "markdown",
   "metadata": {},
   "source": [
    "Rice Leaf Disease Detection using KERAS"
   ]
  },
  {
   "cell_type": "markdown",
   "metadata": {
    "papermill": {
     "duration": 0.021095,
     "end_time": "2020-12-24T10:07:21.472778",
     "exception": false,
     "start_time": "2020-12-24T10:07:21.451683",
     "status": "completed"
    },
    "tags": []
   },
   "source": [
    "Import neccessary packages"
   ]
  },
  {
   "cell_type": "code",
   "execution_count": 1,
   "metadata": {
    "_cell_guid": "b1076dfc-b9ad-4769-8c92-a6c4dae69d19",
    "_uuid": "8f2839f25d086af736a60e9eeb907d3b93b6e0e5",
    "execution": {
     "iopub.execute_input": "2020-12-24T10:07:21.519179Z",
     "iopub.status.busy": "2020-12-24T10:07:21.518259Z",
     "iopub.status.idle": "2020-12-24T10:07:29.545822Z",
     "shell.execute_reply": "2020-12-24T10:07:29.545137Z"
    },
    "papermill": {
     "duration": 8.05625,
     "end_time": "2020-12-24T10:07:29.545950",
     "exception": false,
     "start_time": "2020-12-24T10:07:21.489700",
     "status": "completed"
    },
    "tags": []
   },
   "outputs": [],
   "source": [
    "import numpy as np\n",
    "import pickle\n",
    "import cv2\n",
    "from os import listdir\n",
    "from sklearn.preprocessing import LabelBinarizer\n",
    "from keras.models import Sequential\n",
    "from keras.layers.normalization import BatchNormalization\n",
    "from keras.layers.convolutional import Conv2D\n",
    "from keras.layers.convolutional import MaxPooling2D\n",
    "from keras.layers.core import Activation, Flatten, Dropout, Dense\n",
    "from keras import backend as K\n",
    "from keras.preprocessing.image import ImageDataGenerator\n",
    "from keras.optimizers import Adam\n",
    "from keras.preprocessing import image\n",
    "from keras.preprocessing.image import img_to_array\n",
    "from sklearn.preprocessing import MultiLabelBinarizer\n",
    "from sklearn.model_selection import train_test_split\n",
    "import matplotlib.pyplot as plt"
   ]
  },
  {
   "cell_type": "code",
   "execution_count": 2,
   "metadata": {
    "_cell_guid": "79c7e3d0-c299-4dcb-8224-4455121ee9b0",
    "_uuid": "d629ff2d2480ee46fbb7e2d37f6b5fab8052498a",
    "execution": {
     "iopub.execute_input": "2020-12-24T10:07:29.587455Z",
     "iopub.status.busy": "2020-12-24T10:07:29.586642Z",
     "iopub.status.idle": "2020-12-24T10:07:29.592102Z",
     "shell.execute_reply": "2020-12-24T10:07:29.591354Z"
    },
    "papermill": {
     "duration": 0.029319,
     "end_time": "2020-12-24T10:07:29.592260",
     "exception": false,
     "start_time": "2020-12-24T10:07:29.562941",
     "status": "completed"
    },
    "tags": []
   },
   "outputs": [],
   "source": [
    "EPOCHS = 25\n",
    "INIT_LR = 1e-3\n",
    "BS = 32\n",
    "default_image_size = tuple((64, 64))\n",
    "image_size = 0\n",
    "directory_root = '../input/plantdisease/'\n",
    "width=64\n",
    "height=64\n",
    "depth=3"
   ]
  },
  {
   "cell_type": "markdown",
   "metadata": {
    "papermill": {
     "duration": 0.015939,
     "end_time": "2020-12-24T10:07:29.627528",
     "exception": false,
     "start_time": "2020-12-24T10:07:29.611589",
     "status": "completed"
    },
    "tags": []
   },
   "source": [
    "Function to convert images to array"
   ]
  },
  {
   "cell_type": "code",
   "execution_count": 3,
   "metadata": {
    "execution": {
     "iopub.execute_input": "2020-12-24T10:07:29.667558Z",
     "iopub.status.busy": "2020-12-24T10:07:29.666697Z",
     "iopub.status.idle": "2020-12-24T10:07:29.669890Z",
     "shell.execute_reply": "2020-12-24T10:07:29.669294Z"
    },
    "papermill": {
     "duration": 0.026575,
     "end_time": "2020-12-24T10:07:29.670010",
     "exception": false,
     "start_time": "2020-12-24T10:07:29.643435",
     "status": "completed"
    },
    "tags": []
   },
   "outputs": [],
   "source": [
    "def convert_image_to_array(image_dir):\n",
    "    try:\n",
    "        image = cv2.imread(image_dir)\n",
    "        if image is not None :\n",
    "            image = cv2.resize(image, default_image_size)   \n",
    "            return img_to_array(image)\n",
    "        else :\n",
    "            return np.array([])\n",
    "    except Exception as e:\n",
    "        print(f\"Error : {e}\")\n",
    "        return None"
   ]
  },
  {
   "cell_type": "markdown",
   "metadata": {
    "papermill": {
     "duration": 0.019103,
     "end_time": "2020-12-24T10:07:29.705080",
     "exception": false,
     "start_time": "2020-12-24T10:07:29.685977",
     "status": "completed"
    },
    "tags": []
   },
   "source": [
    "Fetch images from directory"
   ]
  },
  {
   "cell_type": "code",
   "execution_count": 4,
   "metadata": {
    "execution": {
     "iopub.execute_input": "2020-12-24T10:07:29.741280Z",
     "iopub.status.busy": "2020-12-24T10:07:29.740194Z",
     "iopub.status.idle": "2020-12-24T10:08:47.571127Z",
     "shell.execute_reply": "2020-12-24T10:08:47.571727Z"
    },
    "papermill": {
     "duration": 77.850721,
     "end_time": "2020-12-24T10:08:47.571902",
     "exception": false,
     "start_time": "2020-12-24T10:07:29.721181",
     "status": "completed"
    },
    "tags": []
   },
   "outputs": [
    {
     "name": "stdout",
     "output_type": "stream",
     "text": [
      "[INFO] Loading images ...\n",
      "[INFO] Processing Health ...\n",
      "[INFO] Processing Brown spot ...\n",
      "[INFO] Processing Bacterial leaf blight ...\n",
      "[INFO] Processing Leaf smut ...\n",
      "[INFO] Image loading completed\n"
     ]
    }
   ],
   "source": [
    "image_list, label_list = [], []\n",
    "try:\n",
    "    print(\"[INFO] Loading images ...\")\n",
    "    root_dir = listdir(directory_root)\n",
    "    for directory in root_dir :\n",
    "        # remove .DS_Store from list\n",
    "        if directory == \".DS_Store\" :\n",
    "            root_dir.remove(directory)\n",
    "\n",
    "    for plant_folder in root_dir :\n",
    "        plant_disease_folder_list = listdir(f\"{directory_root}/{plant_folder}\")\n",
    "        \n",
    "        for disease_folder in plant_disease_folder_list :\n",
    "            # remove .DS_Store from list\n",
    "            if disease_folder == \".DS_Store\" :\n",
    "                plant_disease_folder_list.remove(disease_folder)\n",
    "\n",
    "        for plant_disease_folder in plant_disease_folder_list:\n",
    "            print(f\"[INFO] Processing {plant_disease_folder} ...\")\n",
    "            plant_disease_image_list = listdir(f\"{directory_root}/{plant_folder}/{plant_disease_folder}/\")\n",
    "                \n",
    "            for single_plant_disease_image in plant_disease_image_list :\n",
    "                if single_plant_disease_image == \".DS_Store\" :\n",
    "                    plant_disease_image_list.remove(single_plant_disease_image)\n",
    "                    \n",
    "            for image in plant_disease_image_list[:2000]:\n",
    "                image_directory = f\"{directory_root}/{plant_folder}/{plant_disease_folder}/{image}\"\n",
    "                if image_directory.endswith(\".jpg\") == True or image_directory.endswith(\".JPG\") == True:\n",
    "                    image_list.append(convert_image_to_array(image_directory))\n",
    "                    label_list.append(plant_disease_folder)\n",
    "                    \n",
    "    print(\"[INFO] Image loading completed\")  \n",
    "except Exception as e:\n",
    "    print(f\"Error : {e}\")"
   ]
  },
  {
   "cell_type": "markdown",
   "metadata": {
    "papermill": {
     "duration": 0.019632,
     "end_time": "2020-12-24T10:08:47.610070",
     "exception": false,
     "start_time": "2020-12-24T10:08:47.590438",
     "status": "completed"
    },
    "tags": []
   },
   "source": [
    "Get Size of Processed Image"
   ]
  },
  {
   "cell_type": "code",
   "execution_count": 5,
   "metadata": {
    "execution": {
     "iopub.execute_input": "2020-12-24T10:08:47.651506Z",
     "iopub.status.busy": "2020-12-24T10:08:47.650368Z",
     "iopub.status.idle": "2020-12-24T10:08:47.654003Z",
     "shell.execute_reply": "2020-12-24T10:08:47.653284Z"
    },
    "papermill": {
     "duration": 0.026228,
     "end_time": "2020-12-24T10:08:47.654156",
     "exception": false,
     "start_time": "2020-12-24T10:08:47.627928",
     "status": "completed"
    },
    "tags": []
   },
   "outputs": [],
   "source": [
    "image_size = len(image_list)"
   ]
  },
  {
   "cell_type": "markdown",
   "metadata": {
    "papermill": {
     "duration": 0.01904,
     "end_time": "2020-12-24T10:08:47.691113",
     "exception": false,
     "start_time": "2020-12-24T10:08:47.672073",
     "status": "completed"
    },
    "tags": []
   },
   "source": [
    "Transform Image Labels uisng Scikit Learn's LabelBinarizer"
   ]
  },
  {
   "cell_type": "code",
   "execution_count": 6,
   "metadata": {
    "execution": {
     "iopub.execute_input": "2020-12-24T10:08:47.740576Z",
     "iopub.status.busy": "2020-12-24T10:08:47.739570Z",
     "iopub.status.idle": "2020-12-24T10:08:47.768001Z",
     "shell.execute_reply": "2020-12-24T10:08:47.767074Z"
    },
    "papermill": {
     "duration": 0.057499,
     "end_time": "2020-12-24T10:08:47.768160",
     "exception": false,
     "start_time": "2020-12-24T10:08:47.710661",
     "status": "completed"
    },
    "tags": []
   },
   "outputs": [],
   "source": [
    "label_binarizer = LabelBinarizer()\n",
    "image_labels = label_binarizer.fit_transform(label_list)\n",
    "pickle.dump(label_binarizer,open('label_transform.pkl', 'wb'))\n",
    "n_classes = len(label_binarizer.classes_)"
   ]
  },
  {
   "cell_type": "markdown",
   "metadata": {
    "papermill": {
     "duration": 0.019442,
     "end_time": "2020-12-24T10:08:47.807291",
     "exception": false,
     "start_time": "2020-12-24T10:08:47.787849",
     "status": "completed"
    },
    "tags": []
   },
   "source": [
    "Print the classes"
   ]
  },
  {
   "cell_type": "code",
   "execution_count": 7,
   "metadata": {
    "execution": {
     "iopub.execute_input": "2020-12-24T10:08:47.850395Z",
     "iopub.status.busy": "2020-12-24T10:08:47.849696Z",
     "iopub.status.idle": "2020-12-24T10:08:47.853444Z",
     "shell.execute_reply": "2020-12-24T10:08:47.854838Z"
    },
    "papermill": {
     "duration": 0.02973,
     "end_time": "2020-12-24T10:08:47.855046",
     "exception": false,
     "start_time": "2020-12-24T10:08:47.825316",
     "status": "completed"
    },
    "tags": []
   },
   "outputs": [
    {
     "name": "stdout",
     "output_type": "stream",
     "text": [
      "['Bacterial leaf blight' 'Brown spot' 'Health' 'Leaf smut']\n"
     ]
    }
   ],
   "source": [
    "print(label_binarizer.classes_)"
   ]
  },
  {
   "cell_type": "code",
   "execution_count": 8,
   "metadata": {
    "execution": {
     "iopub.execute_input": "2020-12-24T10:08:47.907477Z",
     "iopub.status.busy": "2020-12-24T10:08:47.906710Z",
     "iopub.status.idle": "2020-12-24T10:08:49.562574Z",
     "shell.execute_reply": "2020-12-24T10:08:49.561848Z"
    },
    "papermill": {
     "duration": 1.68584,
     "end_time": "2020-12-24T10:08:49.562725",
     "exception": false,
     "start_time": "2020-12-24T10:08:47.876885",
     "status": "completed"
    },
    "tags": []
   },
   "outputs": [],
   "source": [
    "np_image_list = np.array(image_list, dtype=np.float16) / 225.0"
   ]
  },
  {
   "cell_type": "code",
   "execution_count": 9,
   "metadata": {
    "execution": {
     "iopub.execute_input": "2020-12-24T10:08:49.609235Z",
     "iopub.status.busy": "2020-12-24T10:08:49.607916Z",
     "iopub.status.idle": "2020-12-24T10:08:49.708647Z",
     "shell.execute_reply": "2020-12-24T10:08:49.709373Z"
    },
    "papermill": {
     "duration": 0.127629,
     "end_time": "2020-12-24T10:08:49.709525",
     "exception": false,
     "start_time": "2020-12-24T10:08:49.581896",
     "status": "completed"
    },
    "tags": []
   },
   "outputs": [
    {
     "name": "stdout",
     "output_type": "stream",
     "text": [
      "[INFO] Spliting data to train, test\n"
     ]
    }
   ],
   "source": [
    "print(\"[INFO] Spliting data to train, test\")\n",
    "x_train, x_test, y_train, y_test = train_test_split(np_image_list, image_labels, test_size=0.2, random_state = 42) "
   ]
  },
  {
   "cell_type": "code",
   "execution_count": 10,
   "metadata": {
    "execution": {
     "iopub.execute_input": "2020-12-24T10:08:49.756750Z",
     "iopub.status.busy": "2020-12-24T10:08:49.755823Z",
     "iopub.status.idle": "2020-12-24T10:08:49.759129Z",
     "shell.execute_reply": "2020-12-24T10:08:49.758564Z"
    },
    "papermill": {
     "duration": 0.029565,
     "end_time": "2020-12-24T10:08:49.759264",
     "exception": false,
     "start_time": "2020-12-24T10:08:49.729699",
     "status": "completed"
    },
    "tags": []
   },
   "outputs": [],
   "source": [
    "aug = ImageDataGenerator(\n",
    "    rotation_range=25, width_shift_range=0.1,\n",
    "    height_shift_range=0.1, shear_range=0.2, \n",
    "    zoom_range=0.2,horizontal_flip=True, \n",
    "    fill_mode=\"nearest\")"
   ]
  },
  {
   "cell_type": "code",
   "execution_count": 11,
   "metadata": {
    "execution": {
     "iopub.execute_input": "2020-12-24T10:08:49.804485Z",
     "iopub.status.busy": "2020-12-24T10:08:49.803438Z",
     "iopub.status.idle": "2020-12-24T10:08:50.298060Z",
     "shell.execute_reply": "2020-12-24T10:08:50.297208Z"
    },
    "papermill": {
     "duration": 0.518182,
     "end_time": "2020-12-24T10:08:50.298192",
     "exception": false,
     "start_time": "2020-12-24T10:08:49.780010",
     "status": "completed"
    },
    "tags": []
   },
   "outputs": [],
   "source": [
    "model = Sequential()\n",
    "inputShape = (height, width, depth)\n",
    "chanDim = -1\n",
    "if K.image_data_format() == \"channels_first\":\n",
    "    inputShape = (depth, height, width)\n",
    "    chanDim = 1\n",
    "model.add(Conv2D(32, (3, 3), padding=\"same\",input_shape=inputShape))\n",
    "model.add(Activation(\"relu\"))\n",
    "model.add(BatchNormalization(axis=chanDim))\n",
    "model.add(MaxPooling2D(pool_size=(3, 3)))\n",
    "model.add(Dropout(0.25))\n",
    "model.add(Conv2D(64, (3, 3), padding=\"same\"))\n",
    "model.add(Activation(\"relu\"))\n",
    "model.add(BatchNormalization(axis=chanDim))\n",
    "model.add(Conv2D(64, (3, 3), padding=\"same\"))\n",
    "model.add(Activation(\"relu\"))\n",
    "model.add(BatchNormalization(axis=chanDim))\n",
    "model.add(MaxPooling2D(pool_size=(2, 2)))\n",
    "model.add(Dropout(0.25))\n",
    "model.add(Conv2D(128, (3, 3), padding=\"same\"))\n",
    "model.add(Activation(\"relu\"))\n",
    "model.add(BatchNormalization(axis=chanDim))\n",
    "model.add(Conv2D(128, (3, 3), padding=\"same\"))\n",
    "model.add(Activation(\"relu\"))\n",
    "model.add(BatchNormalization(axis=chanDim))\n",
    "model.add(MaxPooling2D(pool_size=(2, 2)))\n",
    "model.add(Dropout(0.25))\n",
    "model.add(Flatten())\n",
    "model.add(Dense(1024))\n",
    "model.add(Activation(\"relu\"))\n",
    "model.add(BatchNormalization())\n",
    "model.add(Dropout(0.5))\n",
    "model.add(Dense(n_classes))\n",
    "model.add(Activation(\"softmax\"))"
   ]
  },
  {
   "cell_type": "markdown",
   "metadata": {
    "papermill": {
     "duration": 0.019854,
     "end_time": "2020-12-24T10:08:50.337579",
     "exception": false,
     "start_time": "2020-12-24T10:08:50.317725",
     "status": "completed"
    },
    "tags": []
   },
   "source": [
    "Model Summary"
   ]
  },
  {
   "cell_type": "code",
   "execution_count": 12,
   "metadata": {
    "execution": {
     "iopub.execute_input": "2020-12-24T10:08:50.381693Z",
     "iopub.status.busy": "2020-12-24T10:08:50.380684Z",
     "iopub.status.idle": "2020-12-24T10:08:50.400913Z",
     "shell.execute_reply": "2020-12-24T10:08:50.399872Z"
    },
    "papermill": {
     "duration": 0.043449,
     "end_time": "2020-12-24T10:08:50.401080",
     "exception": false,
     "start_time": "2020-12-24T10:08:50.357631",
     "status": "completed"
    },
    "tags": []
   },
   "outputs": [
    {
     "name": "stdout",
     "output_type": "stream",
     "text": [
      "Model: \"sequential\"\n",
      "_________________________________________________________________\n",
      "Layer (type)                 Output Shape              Param #   \n",
      "=================================================================\n",
      "conv2d (Conv2D)              (None, 64, 64, 32)        896       \n",
      "_________________________________________________________________\n",
      "activation (Activation)      (None, 64, 64, 32)        0         \n",
      "_________________________________________________________________\n",
      "batch_normalization (BatchNo (None, 64, 64, 32)        128       \n",
      "_________________________________________________________________\n",
      "max_pooling2d (MaxPooling2D) (None, 21, 21, 32)        0         \n",
      "_________________________________________________________________\n",
      "dropout (Dropout)            (None, 21, 21, 32)        0         \n",
      "_________________________________________________________________\n",
      "conv2d_1 (Conv2D)            (None, 21, 21, 64)        18496     \n",
      "_________________________________________________________________\n",
      "activation_1 (Activation)    (None, 21, 21, 64)        0         \n",
      "_________________________________________________________________\n",
      "batch_normalization_1 (Batch (None, 21, 21, 64)        256       \n",
      "_________________________________________________________________\n",
      "conv2d_2 (Conv2D)            (None, 21, 21, 64)        36928     \n",
      "_________________________________________________________________\n",
      "activation_2 (Activation)    (None, 21, 21, 64)        0         \n",
      "_________________________________________________________________\n",
      "batch_normalization_2 (Batch (None, 21, 21, 64)        256       \n",
      "_________________________________________________________________\n",
      "max_pooling2d_1 (MaxPooling2 (None, 10, 10, 64)        0         \n",
      "_________________________________________________________________\n",
      "dropout_1 (Dropout)          (None, 10, 10, 64)        0         \n",
      "_________________________________________________________________\n",
      "conv2d_3 (Conv2D)            (None, 10, 10, 128)       73856     \n",
      "_________________________________________________________________\n",
      "activation_3 (Activation)    (None, 10, 10, 128)       0         \n",
      "_________________________________________________________________\n",
      "batch_normalization_3 (Batch (None, 10, 10, 128)       512       \n",
      "_________________________________________________________________\n",
      "conv2d_4 (Conv2D)            (None, 10, 10, 128)       147584    \n",
      "_________________________________________________________________\n",
      "activation_4 (Activation)    (None, 10, 10, 128)       0         \n",
      "_________________________________________________________________\n",
      "batch_normalization_4 (Batch (None, 10, 10, 128)       512       \n",
      "_________________________________________________________________\n",
      "max_pooling2d_2 (MaxPooling2 (None, 5, 5, 128)         0         \n",
      "_________________________________________________________________\n",
      "dropout_2 (Dropout)          (None, 5, 5, 128)         0         \n",
      "_________________________________________________________________\n",
      "flatten (Flatten)            (None, 3200)              0         \n",
      "_________________________________________________________________\n",
      "dense (Dense)                (None, 1024)              3277824   \n",
      "_________________________________________________________________\n",
      "activation_5 (Activation)    (None, 1024)              0         \n",
      "_________________________________________________________________\n",
      "batch_normalization_5 (Batch (None, 1024)              4096      \n",
      "_________________________________________________________________\n",
      "dropout_3 (Dropout)          (None, 1024)              0         \n",
      "_________________________________________________________________\n",
      "dense_1 (Dense)              (None, 4)                 4100      \n",
      "_________________________________________________________________\n",
      "activation_6 (Activation)    (None, 4)                 0         \n",
      "=================================================================\n",
      "Total params: 3,565,444\n",
      "Trainable params: 3,562,564\n",
      "Non-trainable params: 2,880\n",
      "_________________________________________________________________\n"
     ]
    }
   ],
   "source": [
    "model.summary()"
   ]
  },
  {
   "cell_type": "code",
   "execution_count": 13,
   "metadata": {
    "execution": {
     "iopub.execute_input": "2020-12-24T10:08:50.459854Z",
     "iopub.status.busy": "2020-12-24T10:08:50.456764Z",
     "iopub.status.idle": "2020-12-24T10:08:50.464190Z",
     "shell.execute_reply": "2020-12-24T10:08:50.463457Z"
    },
    "papermill": {
     "duration": 0.04245,
     "end_time": "2020-12-24T10:08:50.464325",
     "exception": false,
     "start_time": "2020-12-24T10:08:50.421875",
     "status": "completed"
    },
    "tags": []
   },
   "outputs": [
    {
     "name": "stdout",
     "output_type": "stream",
     "text": [
      "[INFO] training network...\n"
     ]
    }
   ],
   "source": [
    "opt = Adam(lr=INIT_LR, decay=INIT_LR / EPOCHS)\n",
    "# distribution\n",
    "model.compile(loss=\"binary_crossentropy\", optimizer=opt,metrics=[\"acc\"])\n",
    "# train the network\n",
    "print(\"[INFO] training network...\")"
   ]
  },
  {
   "cell_type": "code",
   "execution_count": 14,
   "metadata": {
    "execution": {
     "iopub.execute_input": "2020-12-24T10:08:50.514728Z",
     "iopub.status.busy": "2020-12-24T10:08:50.513969Z",
     "iopub.status.idle": "2020-12-24T10:32:01.387392Z",
     "shell.execute_reply": "2020-12-24T10:32:01.385980Z"
    },
    "papermill": {
     "duration": 1390.901757,
     "end_time": "2020-12-24T10:32:01.387625",
     "exception": false,
     "start_time": "2020-12-24T10:08:50.485868",
     "status": "completed"
    },
    "tags": []
   },
   "outputs": [
    {
     "name": "stdout",
     "output_type": "stream",
     "text": [
      "Epoch 1/25\n",
      "200/200 [==============================] - 54s 268ms/step - loss: 0.3360 - acc: 0.7437 - val_loss: 1.6356 - val_acc: 0.4087\n",
      "Epoch 2/25\n",
      "200/200 [==============================] - 53s 264ms/step - loss: 0.1686 - acc: 0.8630 - val_loss: 1.2766 - val_acc: 0.5375\n",
      "Epoch 3/25\n",
      "200/200 [==============================] - 55s 276ms/step - loss: 0.1366 - acc: 0.8981 - val_loss: 0.1609 - val_acc: 0.8650\n",
      "Epoch 4/25\n",
      "200/200 [==============================] - 56s 281ms/step - loss: 0.1028 - acc: 0.9234 - val_loss: 0.1055 - val_acc: 0.9162\n",
      "Epoch 5/25\n",
      "200/200 [==============================] - 54s 269ms/step - loss: 0.0806 - acc: 0.9375 - val_loss: 0.1292 - val_acc: 0.9062\n",
      "Epoch 6/25\n",
      "200/200 [==============================] - 54s 270ms/step - loss: 0.0700 - acc: 0.9484 - val_loss: 0.4774 - val_acc: 0.7619\n",
      "Epoch 7/25\n",
      "200/200 [==============================] - 55s 277ms/step - loss: 0.0653 - acc: 0.9519 - val_loss: 0.0585 - val_acc: 0.9563\n",
      "Epoch 8/25\n",
      "200/200 [==============================] - 54s 268ms/step - loss: 0.0544 - acc: 0.9636 - val_loss: 0.3476 - val_acc: 0.7819\n",
      "Epoch 9/25\n",
      "200/200 [==============================] - 54s 270ms/step - loss: 0.0584 - acc: 0.9583 - val_loss: 0.4528 - val_acc: 0.7638\n",
      "Epoch 10/25\n",
      "200/200 [==============================] - 75s 377ms/step - loss: 0.0540 - acc: 0.9625 - val_loss: 0.0192 - val_acc: 0.9887\n",
      "Epoch 11/25\n",
      "200/200 [==============================] - 54s 271ms/step - loss: 0.0391 - acc: 0.9723 - val_loss: 0.0109 - val_acc: 0.9919\n",
      "Epoch 12/25\n",
      "200/200 [==============================] - 55s 273ms/step - loss: 0.0415 - acc: 0.9702 - val_loss: 0.0218 - val_acc: 0.9819\n",
      "Epoch 13/25\n",
      "200/200 [==============================] - 54s 268ms/step - loss: 0.0347 - acc: 0.9762 - val_loss: 0.3587 - val_acc: 0.7613\n",
      "Epoch 14/25\n",
      "200/200 [==============================] - 55s 273ms/step - loss: 0.0389 - acc: 0.9722 - val_loss: 0.0586 - val_acc: 0.9556\n",
      "Epoch 15/25\n",
      "200/200 [==============================] - 55s 275ms/step - loss: 0.0343 - acc: 0.9772 - val_loss: 0.0422 - val_acc: 0.9737\n",
      "Epoch 16/25\n",
      "200/200 [==============================] - 54s 270ms/step - loss: 0.0286 - acc: 0.9791 - val_loss: 0.2347 - val_acc: 0.8600\n",
      "Epoch 17/25\n",
      "200/200 [==============================] - 55s 275ms/step - loss: 0.0293 - acc: 0.9809 - val_loss: 0.0609 - val_acc: 0.9625\n",
      "Epoch 18/25\n",
      "200/200 [==============================] - 55s 274ms/step - loss: 0.0269 - acc: 0.9817 - val_loss: 0.0085 - val_acc: 0.9925\n",
      "Epoch 19/25\n",
      "200/200 [==============================] - 54s 269ms/step - loss: 0.0227 - acc: 0.9850 - val_loss: 0.3075 - val_acc: 0.8313\n",
      "Epoch 20/25\n",
      "200/200 [==============================] - 55s 275ms/step - loss: 0.0302 - acc: 0.9775 - val_loss: 0.0321 - val_acc: 0.9744\n",
      "Epoch 21/25\n",
      "200/200 [==============================] - 55s 274ms/step - loss: 0.0223 - acc: 0.9831 - val_loss: 0.0144 - val_acc: 0.9887\n",
      "Epoch 22/25\n",
      "200/200 [==============================] - 54s 270ms/step - loss: 0.0293 - acc: 0.9791 - val_loss: 0.0204 - val_acc: 0.9825\n",
      "Epoch 23/25\n",
      "200/200 [==============================] - 55s 276ms/step - loss: 0.0241 - acc: 0.9836 - val_loss: 0.0092 - val_acc: 0.9912\n",
      "Epoch 24/25\n",
      "200/200 [==============================] - 54s 268ms/step - loss: 0.0211 - acc: 0.9853 - val_loss: 0.0043 - val_acc: 0.9969\n",
      "Epoch 25/25\n",
      "200/200 [==============================] - 54s 272ms/step - loss: 0.0180 - acc: 0.9861 - val_loss: 0.0775 - val_acc: 0.9719\n"
     ]
    }
   ],
   "source": [
    "history = model.fit_generator(\n",
    "    aug.flow(x_train, y_train, batch_size=BS),\n",
    "    validation_data=(x_test, y_test),\n",
    "    steps_per_epoch=len(x_train) // BS,\n",
    "    epochs=EPOCHS, verbose=1\n",
    "    )"
   ]
  },
  {
   "cell_type": "markdown",
   "metadata": {
    "papermill": {
     "duration": 2.047701,
     "end_time": "2020-12-24T10:32:05.301760",
     "exception": false,
     "start_time": "2020-12-24T10:32:03.254059",
     "status": "completed"
    },
    "tags": []
   },
   "source": [
    "Plot the train and val curve"
   ]
  },
  {
   "cell_type": "code",
   "execution_count": 15,
   "metadata": {
    "execution": {
     "iopub.execute_input": "2020-12-24T10:32:08.956854Z",
     "iopub.status.busy": "2020-12-24T10:32:08.941653Z",
     "iopub.status.idle": "2020-12-24T10:32:09.386927Z",
     "shell.execute_reply": "2020-12-24T10:32:09.386261Z"
    },
    "papermill": {
     "duration": 2.234152,
     "end_time": "2020-12-24T10:32:09.387077",
     "exception": false,
     "start_time": "2020-12-24T10:32:07.152925",
     "status": "completed"
    },
    "tags": []
   },
   "outputs": [
    {
     "data": {
      "image/png": "[encoded data removed]",
      "text/plain": [
       "<Figure size 432x288 with 1 Axes>"
      ]
     },
     "metadata": {
      "needs_background": "light"
     },
     "output_type": "display_data"
    },
    {
     "data": {
      "image/png": "[encoded data removed]",
      "text/plain": [
       "<Figure size 432x288 with 1 Axes>"
      ]
     },
     "metadata": {
      "needs_background": "light"
     },
     "output_type": "display_data"
    }
   ],
   "source": [
    "acc = history.history['acc']\n",
    "val_acc = history.history['val_acc']\n",
    "loss = history.history['loss']\n",
    "val_loss = history.history['val_loss']\n",
    "epochs = range(1, len(acc) + 1)\n",
    "#Train and validation accuracy\n",
    "plt.plot(epochs, acc, 'b', label='Training accurarcy')\n",
    "plt.plot(epochs, val_acc, 'r', label='Validation accurarcy')\n",
    "plt.title('Training and Validation accurarcy')\n",
    "plt.legend()\n",
    "\n",
    "plt.figure()\n",
    "#Train and validation loss\n",
    "plt.plot(epochs, loss, 'b', label='Training loss')\n",
    "plt.plot(epochs, val_loss, 'r', label='Validation loss')\n",
    "plt.title('Training and Validation loss')\n",
    "plt.legend()\n",
    "plt.show()"
   ]
  },
  {
   "cell_type": "markdown",
   "metadata": {
    "papermill": {
     "duration": 1.72675,
     "end_time": "2020-12-24T10:32:12.952648",
     "exception": false,
     "start_time": "2020-12-24T10:32:11.225898",
     "status": "completed"
    },
    "tags": []
   },
   "source": [
    "Model Accuracy"
   ]
  },
  {
   "cell_type": "code",
   "execution_count": 16,
   "metadata": {
    "execution": {
     "iopub.execute_input": "2020-12-24T10:32:16.421581Z",
     "iopub.status.busy": "2020-12-24T10:32:16.420688Z",
     "iopub.status.idle": "2020-12-24T10:32:18.845046Z",
     "shell.execute_reply": "2020-12-24T10:32:18.845709Z"
    },
    "papermill": {
     "duration": 4.161949,
     "end_time": "2020-12-24T10:32:18.845967",
     "exception": false,
     "start_time": "2020-12-24T10:32:14.684018",
     "status": "completed"
    },
    "tags": []
   },
   "outputs": [
    {
     "name": "stdout",
     "output_type": "stream",
     "text": [
      "[INFO] Calculating model accuracy\n",
      "50/50 [==============================] - 2s 44ms/step - loss: 0.0775 - acc: 0.9719\n",
      "Test Accuracy: 97.1875011920929\n"
     ]
    }
   ],
   "source": [
    "print(\"[INFO] Calculating model accuracy\")\n",
    "scores = model.evaluate(x_test, y_test)\n",
    "print(f\"Test Accuracy: {scores[1]*100}\")"
   ]
  }
 ],
 "metadata": {
  "kernelspec": {
   "display_name": "Python 3",
   "language": "python",
   "name": "python3"
  },
  "language_info": {
   "codemirror_mode": {
    "name": "ipython",
    "version": 3
   },
   "file_extension": ".py",
   "mimetype": "text/x-python",
   "name": "python",
   "nbconvert_exporter": "python",
   "pygments_lexer": "ipython3",
   "version": "3.8.5"
  },
  "papermill": {
   "duration": 1508.231115,
   "end_time": "2020-12-24T10:32:24.271769",
   "environment_variables": {},
   "exception": null,
   "input_path": "__notebook__.ipynb",
   "output_path": "__notebook__.ipynb",
   "parameters": {},
   "start_time": "2020-12-24T10:07:16.040654",
   "version": "2.1.0"
  }
 },
 "nbformat": 4,
 "nbformat_minor": 4
}
